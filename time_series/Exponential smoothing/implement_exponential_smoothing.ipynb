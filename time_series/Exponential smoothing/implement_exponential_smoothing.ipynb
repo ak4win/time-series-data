{
 "cells": [
  {
   "cell_type": "code",
   "metadata": {
    "tags": [],
    "deepnote_to_be_reexecuted": false,
    "source_hash": "4ea22499",
    "execution_start": 1620323475382,
    "execution_millis": 1140,
    "cell_id": "00000-a7137bbf-7a38-47e6-947e-01aa7f86605e",
    "deepnote_cell_type": "code"
   },
   "source": "import numpy as np\nimport pandas as pd\nimport matplotlib.pyplot as plt\nimport seaborn as sns\n\nfrom sklearn.metrics import r2_score, median_absolute_error, mean_absolute_error\nfrom sklearn.metrics import median_absolute_error, mean_squared_error, mean_squared_log_error\n\n# Import own support functions\nfrom work.time_series.support.import_clean_data import get_data\nfrom exponential_smoothing import exponential_smoothing, plot_exponential_smoothing, double_exponential_smoothing, plot_double_exponential_smoothing",
   "outputs": [],
   "execution_count": null
  },
  {
   "cell_type": "code",
   "metadata": {
    "tags": [],
    "deepnote_to_be_reexecuted": false,
    "source_hash": "8f56f5c2",
    "execution_start": 1620323476525,
    "execution_millis": 2557,
    "cell_id": "00001-5ff33f80-e60a-44a6-b63e-2c7ca7fdeca1",
    "deepnote_cell_type": "code"
   },
   "source": "data = get_data(1)",
   "outputs": [],
   "execution_count": null
  },
  {
   "cell_type": "code",
   "metadata": {
    "tags": [],
    "deepnote_to_be_reexecuted": false,
    "source_hash": "e6928a8f",
    "execution_start": 1620323479087,
    "execution_millis": 49,
    "cell_id": "00002-7bf88149-aae4-4dbc-9ca4-23fc2b85506f",
    "deepnote_cell_type": "code"
   },
   "source": "data",
   "outputs": [
    {
     "output_type": "execute_result",
     "execution_count": 3,
     "data": {
      "application/vnd.deepnote.dataframe.v2+json": {
       "row_count": 36192,
       "column_count": 1,
       "columns": [
        {
         "name": "temperature",
         "dtype": "float64",
         "stats": {
          "unique_count": 1225,
          "nan_count": 0,
          "min": "17.1954",
          "max": "29.9942",
          "histogram": [
           {
            "bin_start": 17.1954,
            "bin_end": 18.475279999999998,
            "count": 1899
           },
           {
            "bin_start": 18.475279999999998,
            "bin_end": 19.75516,
            "count": 3640
           },
           {
            "bin_start": 19.75516,
            "bin_end": 21.03504,
            "count": 6579
           },
           {
            "bin_start": 21.03504,
            "bin_end": 22.31492,
            "count": 10636
           },
           {
            "bin_start": 22.31492,
            "bin_end": 23.5948,
            "count": 6026
           },
           {
            "bin_start": 23.5948,
            "bin_end": 24.874679999999998,
            "count": 3329
           },
           {
            "bin_start": 24.874679999999998,
            "bin_end": 26.154559999999996,
            "count": 1818
           },
           {
            "bin_start": 26.154559999999996,
            "bin_end": 27.43444,
            "count": 1161
           },
           {
            "bin_start": 27.43444,
            "bin_end": 28.71432,
            "count": 970
           },
           {
            "bin_start": 28.71432,
            "bin_end": 29.9942,
            "count": 134
           }
          ]
         }
        },
        {
         "name": "_deepnote_index_column",
         "dtype": "int64"
        }
       ],
       "rows_top": [
        {
         "temperature": 19.9884,
         "_deepnote_index_column": 0
        },
        {
         "temperature": 19.3024,
         "_deepnote_index_column": 1
        },
        {
         "temperature": 19.1652,
         "_deepnote_index_column": 2
        },
        {
         "temperature": 19.175,
         "_deepnote_index_column": 3
        },
        {
         "temperature": 19.1456,
         "_deepnote_index_column": 4
        },
        {
         "temperature": 19.1652,
         "_deepnote_index_column": 5
        },
        {
         "temperature": 19.1652,
         "_deepnote_index_column": 6
        },
        {
         "temperature": 19.1456,
         "_deepnote_index_column": 7
        },
        {
         "temperature": 19.1456,
         "_deepnote_index_column": 8
        },
        {
         "temperature": 19.1456,
         "_deepnote_index_column": 9
        },
        {
         "temperature": 19.1358,
         "_deepnote_index_column": 10
        },
        {
         "temperature": 19.1162,
         "_deepnote_index_column": 11
        },
        {
         "temperature": 19.1162,
         "_deepnote_index_column": 12
        },
        {
         "temperature": 19.1064,
         "_deepnote_index_column": 13
        },
        {
         "temperature": 19.1064,
         "_deepnote_index_column": 14
        },
        {
         "temperature": 19.0966,
         "_deepnote_index_column": 15
        },
        {
         "temperature": 19.0966,
         "_deepnote_index_column": 16
        },
        {
         "temperature": 19.0868,
         "_deepnote_index_column": 17
        },
        {
         "temperature": 19.0672,
         "_deepnote_index_column": 18
        },
        {
         "temperature": 19.0672,
         "_deepnote_index_column": 19
        },
        {
         "temperature": 19.0672,
         "_deepnote_index_column": 20
        },
        {
         "temperature": 19.0868,
         "_deepnote_index_column": 21
        },
        {
         "temperature": 19.0182,
         "_deepnote_index_column": 22
        },
        {
         "temperature": 19.0182,
         "_deepnote_index_column": 23
        },
        {
         "temperature": 19.0084,
         "_deepnote_index_column": 24
        },
        {
         "temperature": 19.0084,
         "_deepnote_index_column": 25
        },
        {
         "temperature": 19.0084,
         "_deepnote_index_column": 26
        },
        {
         "temperature": 18.9986,
         "_deepnote_index_column": 27
        },
        {
         "temperature": 19.0084,
         "_deepnote_index_column": 28
        },
        {
         "temperature": 18.9888,
         "_deepnote_index_column": 29
        },
        {
         "temperature": 18.9692,
         "_deepnote_index_column": 30
        },
        {
         "temperature": 18.979,
         "_deepnote_index_column": 31
        },
        {
         "temperature": 18.979,
         "_deepnote_index_column": 32
        },
        {
         "temperature": 18.9692,
         "_deepnote_index_column": 33
        },
        {
         "temperature": 18.9888,
         "_deepnote_index_column": 34
        },
        {
         "temperature": 18.979,
         "_deepnote_index_column": 35
        },
        {
         "temperature": 18.9888,
         "_deepnote_index_column": 36
        },
        {
         "temperature": 18.9692,
         "_deepnote_index_column": 37
        },
        {
         "temperature": 18.9594,
         "_deepnote_index_column": 38
        },
        {
         "temperature": 18.9594,
         "_deepnote_index_column": 39
        },
        {
         "temperature": 18.9692,
         "_deepnote_index_column": 40
        },
        {
         "temperature": 18.9398,
         "_deepnote_index_column": 41
        },
        {
         "temperature": 18.93,
         "_deepnote_index_column": 42
        },
        {
         "temperature": 18.9202,
         "_deepnote_index_column": 43
        },
        {
         "temperature": 18.9104,
         "_deepnote_index_column": 44
        },
        {
         "temperature": 18.9006,
         "_deepnote_index_column": 45
        },
        {
         "temperature": 18.9006,
         "_deepnote_index_column": 46
        },
        {
         "temperature": 18.9104,
         "_deepnote_index_column": 47
        },
        {
         "temperature": 18.9006,
         "_deepnote_index_column": 48
        },
        {
         "temperature": 18.8908,
         "_deepnote_index_column": 49
        },
        {
         "temperature": 18.9006,
         "_deepnote_index_column": 50
        },
        {
         "temperature": 18.9104,
         "_deepnote_index_column": 51
        },
        {
         "temperature": 18.8908,
         "_deepnote_index_column": 52
        },
        {
         "temperature": 18.8712,
         "_deepnote_index_column": 53
        },
        {
         "temperature": 18.8222,
         "_deepnote_index_column": 54
        },
        {
         "temperature": 18.8124,
         "_deepnote_index_column": 55
        },
        {
         "temperature": 18.8124,
         "_deepnote_index_column": 56
        },
        {
         "temperature": 18.8026,
         "_deepnote_index_column": 57
        },
        {
         "temperature": 18.7928,
         "_deepnote_index_column": 58
        },
        {
         "temperature": 18.7928,
         "_deepnote_index_column": 59
        },
        {
         "temperature": 18.7732,
         "_deepnote_index_column": 60
        },
        {
         "temperature": 18.7732,
         "_deepnote_index_column": 61
        },
        {
         "temperature": 18.7928,
         "_deepnote_index_column": 62
        },
        {
         "temperature": 18.7732,
         "_deepnote_index_column": 63
        },
        {
         "temperature": 18.7536,
         "_deepnote_index_column": 64
        },
        {
         "temperature": 18.7732,
         "_deepnote_index_column": 65
        },
        {
         "temperature": 18.7634,
         "_deepnote_index_column": 66
        },
        {
         "temperature": 18.7536,
         "_deepnote_index_column": 67
        },
        {
         "temperature": 18.7242,
         "_deepnote_index_column": 68
        },
        {
         "temperature": 18.734,
         "_deepnote_index_column": 69
        },
        {
         "temperature": 18.7242,
         "_deepnote_index_column": 70
        },
        {
         "temperature": 18.734,
         "_deepnote_index_column": 71
        },
        {
         "temperature": 18.7242,
         "_deepnote_index_column": 72
        },
        {
         "temperature": 18.7144,
         "_deepnote_index_column": 73
        },
        {
         "temperature": 18.6948,
         "_deepnote_index_column": 74
        },
        {
         "temperature": 18.6948,
         "_deepnote_index_column": 75
        },
        {
         "temperature": 18.685,
         "_deepnote_index_column": 76
        },
        {
         "temperature": 18.6654,
         "_deepnote_index_column": 77
        },
        {
         "temperature": 18.6556,
         "_deepnote_index_column": 78
        },
        {
         "temperature": 18.6458,
         "_deepnote_index_column": 79
        },
        {
         "temperature": 18.636,
         "_deepnote_index_column": 80
        },
        {
         "temperature": 18.636,
         "_deepnote_index_column": 81
        },
        {
         "temperature": 18.636,
         "_deepnote_index_column": 82
        },
        {
         "temperature": 18.636,
         "_deepnote_index_column": 83
        },
        {
         "temperature": 18.6164,
         "_deepnote_index_column": 84
        },
        {
         "temperature": 18.6066,
         "_deepnote_index_column": 85
        },
        {
         "temperature": 18.5478,
         "_deepnote_index_column": 86
        },
        {
         "temperature": 18.5184,
         "_deepnote_index_column": 87
        },
        {
         "temperature": 18.5086,
         "_deepnote_index_column": 88
        },
        {
         "temperature": 18.4988,
         "_deepnote_index_column": 89
        },
        {
         "temperature": 18.4988,
         "_deepnote_index_column": 90
        },
        {
         "temperature": 18.4988,
         "_deepnote_index_column": 91
        },
        {
         "temperature": 18.5086,
         "_deepnote_index_column": 92
        },
        {
         "temperature": 18.5086,
         "_deepnote_index_column": 93
        },
        {
         "temperature": 18.4694,
         "_deepnote_index_column": 94
        },
        {
         "temperature": 18.4596,
         "_deepnote_index_column": 95
        },
        {
         "temperature": 18.44,
         "_deepnote_index_column": 96
        },
        {
         "temperature": 18.4204,
         "_deepnote_index_column": 97
        },
        {
         "temperature": 18.4204,
         "_deepnote_index_column": 98
        },
        {
         "temperature": 18.4106,
         "_deepnote_index_column": 99
        },
        {
         "temperature": 18.4008,
         "_deepnote_index_column": 100
        },
        {
         "temperature": 18.4008,
         "_deepnote_index_column": 101
        },
        {
         "temperature": 18.4008,
         "_deepnote_index_column": 102
        },
        {
         "temperature": 18.4106,
         "_deepnote_index_column": 103
        },
        {
         "temperature": 18.4204,
         "_deepnote_index_column": 104
        },
        {
         "temperature": 18.4106,
         "_deepnote_index_column": 105
        },
        {
         "temperature": 18.4008,
         "_deepnote_index_column": 106
        },
        {
         "temperature": 18.4008,
         "_deepnote_index_column": 107
        },
        {
         "temperature": 18.4008,
         "_deepnote_index_column": 108
        },
        {
         "temperature": 18.3812,
         "_deepnote_index_column": 109
        },
        {
         "temperature": 18.3714,
         "_deepnote_index_column": 110
        },
        {
         "temperature": 18.3812,
         "_deepnote_index_column": 111
        },
        {
         "temperature": 18.3616,
         "_deepnote_index_column": 112
        },
        {
         "temperature": 18.342,
         "_deepnote_index_column": 113
        },
        {
         "temperature": 18.3322,
         "_deepnote_index_column": 114
        },
        {
         "temperature": 18.3322,
         "_deepnote_index_column": 115
        },
        {
         "temperature": 18.3322,
         "_deepnote_index_column": 116
        },
        {
         "temperature": 18.342,
         "_deepnote_index_column": 117
        },
        {
         "temperature": 18.3126,
         "_deepnote_index_column": 118
        },
        {
         "temperature": 18.3224,
         "_deepnote_index_column": 119
        },
        {
         "temperature": 18.3028,
         "_deepnote_index_column": 120
        },
        {
         "temperature": 18.3028,
         "_deepnote_index_column": 121
        },
        {
         "temperature": 18.293,
         "_deepnote_index_column": 122
        },
        {
         "temperature": 18.3028,
         "_deepnote_index_column": 123
        },
        {
         "temperature": 18.293,
         "_deepnote_index_column": 124
        },
        {
         "temperature": 18.2832,
         "_deepnote_index_column": 125
        },
        {
         "temperature": 18.2636,
         "_deepnote_index_column": 126
        },
        {
         "temperature": 18.2734,
         "_deepnote_index_column": 127
        },
        {
         "temperature": 18.2636,
         "_deepnote_index_column": 128
        },
        {
         "temperature": 18.2636,
         "_deepnote_index_column": 129
        },
        {
         "temperature": 18.244,
         "_deepnote_index_column": 130
        },
        {
         "temperature": 18.2048,
         "_deepnote_index_column": 131
        },
        {
         "temperature": 18.2048,
         "_deepnote_index_column": 132
        },
        {
         "temperature": 18.1852,
         "_deepnote_index_column": 133
        },
        {
         "temperature": 18.2048,
         "_deepnote_index_column": 134
        },
        {
         "temperature": 18.2048,
         "_deepnote_index_column": 135
        },
        {
         "temperature": 18.2048,
         "_deepnote_index_column": 136
        },
        {
         "temperature": 18.1852,
         "_deepnote_index_column": 137
        },
        {
         "temperature": 18.1558,
         "_deepnote_index_column": 138
        },
        {
         "temperature": 18.1656,
         "_deepnote_index_column": 139
        },
        {
         "temperature": 18.1558,
         "_deepnote_index_column": 140
        },
        {
         "temperature": 18.1558,
         "_deepnote_index_column": 141
        },
        {
         "temperature": 18.1362,
         "_deepnote_index_column": 142
        },
        {
         "temperature": 18.1264,
         "_deepnote_index_column": 143
        },
        {
         "temperature": 18.1068,
         "_deepnote_index_column": 144
        },
        {
         "temperature": 18.097,
         "_deepnote_index_column": 145
        },
        {
         "temperature": 18.0872,
         "_deepnote_index_column": 146
        },
        {
         "temperature": 18.0872,
         "_deepnote_index_column": 147
        },
        {
         "temperature": 18.0872,
         "_deepnote_index_column": 148
        },
        {
         "temperature": 18.0872,
         "_deepnote_index_column": 149
        },
        {
         "temperature": 18.0774,
         "_deepnote_index_column": 150
        },
        {
         "temperature": 18.0676,
         "_deepnote_index_column": 151
        },
        {
         "temperature": 18.0676,
         "_deepnote_index_column": 152
        },
        {
         "temperature": 18.0676,
         "_deepnote_index_column": 153
        },
        {
         "temperature": 18.0676,
         "_deepnote_index_column": 154
        },
        {
         "temperature": 18.0284,
         "_deepnote_index_column": 155
        },
        {
         "temperature": 18.0382,
         "_deepnote_index_column": 156
        },
        {
         "temperature": 18.0284,
         "_deepnote_index_column": 157
        },
        {
         "temperature": 18.0284,
         "_deepnote_index_column": 158
        },
        {
         "temperature": 18.0186,
         "_deepnote_index_column": 159
        },
        {
         "temperature": 18.0088,
         "_deepnote_index_column": 160
        },
        {
         "temperature": 18.0088,
         "_deepnote_index_column": 161
        },
        {
         "temperature": 17.9794,
         "_deepnote_index_column": 162
        },
        {
         "temperature": 17.9598,
         "_deepnote_index_column": 163
        },
        {
         "temperature": 17.9696,
         "_deepnote_index_column": 164
        },
        {
         "temperature": 17.9598,
         "_deepnote_index_column": 165
        },
        {
         "temperature": 17.9304,
         "_deepnote_index_column": 166
        },
        {
         "temperature": 17.9304,
         "_deepnote_index_column": 167
        },
        {
         "temperature": 17.9402,
         "_deepnote_index_column": 168
        },
        {
         "temperature": 17.95,
         "_deepnote_index_column": 169
        },
        {
         "temperature": 17.9402,
         "_deepnote_index_column": 170
        },
        {
         "temperature": 17.9108,
         "_deepnote_index_column": 171
        },
        {
         "temperature": 17.8814,
         "_deepnote_index_column": 172
        },
        {
         "temperature": 17.8814,
         "_deepnote_index_column": 173
        },
        {
         "temperature": 17.8716,
         "_deepnote_index_column": 174
        },
        {
         "temperature": 17.8912,
         "_deepnote_index_column": 175
        },
        {
         "temperature": 17.8814,
         "_deepnote_index_column": 176
        },
        {
         "temperature": 17.8716,
         "_deepnote_index_column": 177
        },
        {
         "temperature": 17.8814,
         "_deepnote_index_column": 178
        },
        {
         "temperature": 17.8912,
         "_deepnote_index_column": 179
        },
        {
         "temperature": 17.8814,
         "_deepnote_index_column": 180
        },
        {
         "temperature": 17.8716,
         "_deepnote_index_column": 181
        },
        {
         "temperature": 17.8716,
         "_deepnote_index_column": 182
        },
        {
         "temperature": 17.852,
         "_deepnote_index_column": 183
        },
        {
         "temperature": 17.852,
         "_deepnote_index_column": 184
        },
        {
         "temperature": 17.852,
         "_deepnote_index_column": 185
        },
        {
         "temperature": 17.8422,
         "_deepnote_index_column": 186
        },
        {
         "temperature": 17.8324,
         "_deepnote_index_column": 187
        },
        {
         "temperature": 17.8128,
         "_deepnote_index_column": 188
        },
        {
         "temperature": 17.8226,
         "_deepnote_index_column": 189
        },
        {
         "temperature": 17.8128,
         "_deepnote_index_column": 190
        },
        {
         "temperature": 17.7932,
         "_deepnote_index_column": 191
        },
        {
         "temperature": 17.7932,
         "_deepnote_index_column": 192
        },
        {
         "temperature": 17.7932,
         "_deepnote_index_column": 193
        },
        {
         "temperature": 17.7932,
         "_deepnote_index_column": 194
        },
        {
         "temperature": 17.803,
         "_deepnote_index_column": 195
        },
        {
         "temperature": 17.8128,
         "_deepnote_index_column": 196
        },
        {
         "temperature": 17.7834,
         "_deepnote_index_column": 197
        },
        {
         "temperature": 17.7736,
         "_deepnote_index_column": 198
        },
        {
         "temperature": 17.7736,
         "_deepnote_index_column": 199
        },
        {
         "temperature": 17.7736,
         "_deepnote_index_column": 200
        },
        {
         "temperature": 17.754,
         "_deepnote_index_column": 201
        },
        {
         "temperature": 17.754,
         "_deepnote_index_column": 202
        },
        {
         "temperature": 17.754,
         "_deepnote_index_column": 203
        },
        {
         "temperature": 17.7246,
         "_deepnote_index_column": 204
        },
        {
         "temperature": 17.7344,
         "_deepnote_index_column": 205
        },
        {
         "temperature": 17.7148,
         "_deepnote_index_column": 206
        },
        {
         "temperature": 17.7148,
         "_deepnote_index_column": 207
        },
        {
         "temperature": 17.7148,
         "_deepnote_index_column": 208
        },
        {
         "temperature": 17.7148,
         "_deepnote_index_column": 209
        },
        {
         "temperature": 17.6952,
         "_deepnote_index_column": 210
        },
        {
         "temperature": 17.6952,
         "_deepnote_index_column": 211
        },
        {
         "temperature": 17.6854,
         "_deepnote_index_column": 212
        },
        {
         "temperature": 17.705,
         "_deepnote_index_column": 213
        },
        {
         "temperature": 17.6952,
         "_deepnote_index_column": 214
        },
        {
         "temperature": 17.6952,
         "_deepnote_index_column": 215
        },
        {
         "temperature": 17.6952,
         "_deepnote_index_column": 216
        },
        {
         "temperature": 17.6952,
         "_deepnote_index_column": 217
        },
        {
         "temperature": 17.6854,
         "_deepnote_index_column": 218
        },
        {
         "temperature": 17.6854,
         "_deepnote_index_column": 219
        },
        {
         "temperature": 17.656,
         "_deepnote_index_column": 220
        },
        {
         "temperature": 17.656,
         "_deepnote_index_column": 221
        },
        {
         "temperature": 17.656,
         "_deepnote_index_column": 222
        },
        {
         "temperature": 17.6658,
         "_deepnote_index_column": 223
        },
        {
         "temperature": 17.6756,
         "_deepnote_index_column": 224
        },
        {
         "temperature": 17.6756,
         "_deepnote_index_column": 225
        },
        {
         "temperature": 17.6756,
         "_deepnote_index_column": 226
        },
        {
         "temperature": 17.6658,
         "_deepnote_index_column": 227
        },
        {
         "temperature": 17.6756,
         "_deepnote_index_column": 228
        },
        {
         "temperature": 17.6658,
         "_deepnote_index_column": 229
        },
        {
         "temperature": 17.656,
         "_deepnote_index_column": 230
        },
        {
         "temperature": 17.656,
         "_deepnote_index_column": 231
        },
        {
         "temperature": 17.6462,
         "_deepnote_index_column": 232
        },
        {
         "temperature": 17.6364,
         "_deepnote_index_column": 233
        },
        {
         "temperature": 17.6364,
         "_deepnote_index_column": 234
        },
        {
         "temperature": 17.6364,
         "_deepnote_index_column": 235
        },
        {
         "temperature": 17.6364,
         "_deepnote_index_column": 236
        },
        {
         "temperature": 17.6266,
         "_deepnote_index_column": 237
        },
        {
         "temperature": 17.5972,
         "_deepnote_index_column": 238
        },
        {
         "temperature": 17.607,
         "_deepnote_index_column": 239
        },
        {
         "temperature": 17.5776,
         "_deepnote_index_column": 240
        },
        {
         "temperature": 17.5678,
         "_deepnote_index_column": 241
        },
        {
         "temperature": 17.5776,
         "_deepnote_index_column": 242
        },
        {
         "temperature": 17.5776,
         "_deepnote_index_column": 243
        },
        {
         "temperature": 17.5776,
         "_deepnote_index_column": 244
        },
        {
         "temperature": 17.5776,
         "_deepnote_index_column": 245
        },
        {
         "temperature": 17.5678,
         "_deepnote_index_column": 246
        },
        {
         "temperature": 17.5776,
         "_deepnote_index_column": 247
        },
        {
         "temperature": 17.5776,
         "_deepnote_index_column": 248
        },
        {
         "temperature": 17.5776,
         "_deepnote_index_column": 249
        },
        {
         "temperature": 17.5776,
         "_deepnote_index_column": 250
        },
        {
         "temperature": 17.5776,
         "_deepnote_index_column": 251
        },
        {
         "temperature": 17.5678,
         "_deepnote_index_column": 252
        },
        {
         "temperature": 17.5678,
         "_deepnote_index_column": 253
        },
        {
         "temperature": 17.558,
         "_deepnote_index_column": 254
        },
        {
         "temperature": 17.558,
         "_deepnote_index_column": 255
        },
        {
         "temperature": 17.5482,
         "_deepnote_index_column": 256
        },
        {
         "temperature": 17.5384,
         "_deepnote_index_column": 257
        },
        {
         "temperature": 17.5482,
         "_deepnote_index_column": 258
        },
        {
         "temperature": 17.509,
         "_deepnote_index_column": 259
        },
        {
         "temperature": 17.509,
         "_deepnote_index_column": 260
        },
        {
         "temperature": 17.509,
         "_deepnote_index_column": 261
        },
        {
         "temperature": 17.509,
         "_deepnote_index_column": 262
        },
        {
         "temperature": 17.5482,
         "_deepnote_index_column": 263
        },
        {
         "temperature": 17.5874,
         "_deepnote_index_column": 264
        },
        {
         "temperature": 17.5972,
         "_deepnote_index_column": 265
        },
        {
         "temperature": 17.7442,
         "_deepnote_index_column": 266
        },
        {
         "temperature": 17.754,
         "_deepnote_index_column": 267
        },
        {
         "temperature": 17.7932,
         "_deepnote_index_column": 268
        },
        {
         "temperature": 17.8324,
         "_deepnote_index_column": 269
        },
        {
         "temperature": 17.8324,
         "_deepnote_index_column": 270
        },
        {
         "temperature": 17.852,
         "_deepnote_index_column": 271
        },
        {
         "temperature": 17.8618,
         "_deepnote_index_column": 272
        },
        {
         "temperature": 17.852,
         "_deepnote_index_column": 273
        },
        {
         "temperature": 17.8618,
         "_deepnote_index_column": 274
        },
        {
         "temperature": 17.8912,
         "_deepnote_index_column": 275
        },
        {
         "temperature": 17.901,
         "_deepnote_index_column": 276
        },
        {
         "temperature": 17.95,
         "_deepnote_index_column": 277
        },
        {
         "temperature": 17.95,
         "_deepnote_index_column": 278
        },
        {
         "temperature": 17.95,
         "_deepnote_index_column": 279
        },
        {
         "temperature": 17.95,
         "_deepnote_index_column": 280
        },
        {
         "temperature": 17.9598,
         "_deepnote_index_column": 281
        },
        {
         "temperature": 17.9696,
         "_deepnote_index_column": 282
        },
        {
         "temperature": 17.9892,
         "_deepnote_index_column": 283
        },
        {
         "temperature": 18.0186,
         "_deepnote_index_column": 284
        },
        {
         "temperature": 18.0284,
         "_deepnote_index_column": 285
        },
        {
         "temperature": 18.0284,
         "_deepnote_index_column": 286
        },
        {
         "temperature": 18.0578,
         "_deepnote_index_column": 287
        },
        {
         "temperature": 18.1558,
         "_deepnote_index_column": 288
        },
        {
         "temperature": 18.1656,
         "_deepnote_index_column": 289
        },
        {
         "temperature": 18.3224,
         "_deepnote_index_column": 290
        },
        {
         "temperature": 18.3812,
         "_deepnote_index_column": 291
        },
        {
         "temperature": 18.4988,
         "_deepnote_index_column": 292
        },
        {
         "temperature": 18.5772,
         "_deepnote_index_column": 293
        },
        {
         "temperature": 18.5968,
         "_deepnote_index_column": 294
        },
        {
         "temperature": 18.636,
         "_deepnote_index_column": 295
        },
        {
         "temperature": 18.7732,
         "_deepnote_index_column": 296
        },
        {
         "temperature": 18.8516,
         "_deepnote_index_column": 297
        },
        {
         "temperature": 18.8614,
         "_deepnote_index_column": 298
        },
        {
         "temperature": 18.8908,
         "_deepnote_index_column": 299
        },
        {
         "temperature": 18.9202,
         "_deepnote_index_column": 300
        },
        {
         "temperature": 18.93,
         "_deepnote_index_column": 301
        },
        {
         "temperature": 18.9496,
         "_deepnote_index_column": 302
        },
        {
         "temperature": 18.9594,
         "_deepnote_index_column": 303
        },
        {
         "temperature": 19.1652,
         "_deepnote_index_column": 304
        },
        {
         "temperature": 19.1848,
         "_deepnote_index_column": 305
        },
        {
         "temperature": 19.2142,
         "_deepnote_index_column": 306
        },
        {
         "temperature": 19.2436,
         "_deepnote_index_column": 307
        },
        {
         "temperature": 19.273,
         "_deepnote_index_column": 308
        },
        {
         "temperature": 19.322,
         "_deepnote_index_column": 309
        },
        {
         "temperature": 19.3906,
         "_deepnote_index_column": 310
        },
        {
         "temperature": 19.4396,
         "_deepnote_index_column": 311
        },
        {
         "temperature": 19.4494,
         "_deepnote_index_column": 312
        },
        {
         "temperature": 19.5376,
         "_deepnote_index_column": 313
        },
        {
         "temperature": 19.5474,
         "_deepnote_index_column": 314
        },
        {
         "temperature": 19.5964,
         "_deepnote_index_column": 315
        },
        {
         "temperature": 19.665,
         "_deepnote_index_column": 316
        },
        {
         "temperature": 19.763,
         "_deepnote_index_column": 317
        },
        {
         "temperature": 19.7728,
         "_deepnote_index_column": 318
        },
        {
         "temperature": 19.7826,
         "_deepnote_index_column": 319
        },
        {
         "temperature": 19.9296,
         "_deepnote_index_column": 320
        },
        {
         "temperature": 20.0178,
         "_deepnote_index_column": 321
        },
        {
         "temperature": 20.0276,
         "_deepnote_index_column": 322
        },
        {
         "temperature": 20.0472,
         "_deepnote_index_column": 323
        },
        {
         "temperature": 20.253,
         "_deepnote_index_column": 324
        },
        {
         "temperature": 20.2824,
         "_deepnote_index_column": 325
        },
        {
         "temperature": 20.5176,
         "_deepnote_index_column": 326
        },
        {
         "temperature": 20.596,
         "_deepnote_index_column": 327
        },
        {
         "temperature": 20.6058,
         "_deepnote_index_column": 328
        },
        {
         "temperature": 20.7136,
         "_deepnote_index_column": 329
        },
        {
         "temperature": 20.7136,
         "_deepnote_index_column": 330
        },
        {
         "temperature": 20.7626,
         "_deepnote_index_column": 331
        },
        {
         "temperature": 20.8312,
         "_deepnote_index_column": 332
        },
        {
         "temperature": 20.89,
         "_deepnote_index_column": 333
        },
        {
         "temperature": 20.988,
         "_deepnote_index_column": 334
        },
        {
         "temperature": 21.2134,
         "_deepnote_index_column": 335
        },
        {
         "temperature": 21.2428,
         "_deepnote_index_column": 336
        },
        {
         "temperature": 21.282,
         "_deepnote_index_column": 337
        },
        {
         "temperature": 21.3114,
         "_deepnote_index_column": 338
        },
        {
         "temperature": 21.3114,
         "_deepnote_index_column": 339
        },
        {
         "temperature": 21.3212,
         "_deepnote_index_column": 340
        },
        {
         "temperature": 21.3212,
         "_deepnote_index_column": 341
        },
        {
         "temperature": 21.3408,
         "_deepnote_index_column": 342
        },
        {
         "temperature": 21.3702,
         "_deepnote_index_column": 343
        },
        {
         "temperature": 21.3996,
         "_deepnote_index_column": 344
        },
        {
         "temperature": 21.4388,
         "_deepnote_index_column": 345
        },
        {
         "temperature": 21.4878,
         "_deepnote_index_column": 346
        },
        {
         "temperature": 21.5172,
         "_deepnote_index_column": 347
        },
        {
         "temperature": 21.5074,
         "_deepnote_index_column": 348
        },
        {
         "temperature": 21.527,
         "_deepnote_index_column": 349
        },
        {
         "temperature": 21.5368,
         "_deepnote_index_column": 350
        },
        {
         "temperature": 21.6544,
         "_deepnote_index_column": 351
        },
        {
         "temperature": 21.674,
         "_deepnote_index_column": 352
        },
        {
         "temperature": 21.7132,
         "_deepnote_index_column": 353
        },
        {
         "temperature": 21.7916,
         "_deepnote_index_column": 354
        },
        {
         "temperature": 21.8112,
         "_deepnote_index_column": 355
        },
        {
         "temperature": 21.8112,
         "_deepnote_index_column": 356
        },
        {
         "temperature": 21.8896,
         "_deepnote_index_column": 357
        },
        {
         "temperature": 21.8896,
         "_deepnote_index_column": 358
        },
        {
         "temperature": 21.9484,
         "_deepnote_index_column": 359
        },
        {
         "temperature": 22.017,
         "_deepnote_index_column": 360
        },
        {
         "temperature": 22.0366,
         "_deepnote_index_column": 361
        },
        {
         "temperature": 22.066,
         "_deepnote_index_column": 362
        },
        {
         "temperature": 22.0856,
         "_deepnote_index_column": 363
        },
        {
         "temperature": 22.115,
         "_deepnote_index_column": 364
        },
        {
         "temperature": 22.0954,
         "_deepnote_index_column": 365
        },
        {
         "temperature": 22.0856,
         "_deepnote_index_column": 366
        },
        {
         "temperature": 22.0954,
         "_deepnote_index_column": 367
        },
        {
         "temperature": 22.1346,
         "_deepnote_index_column": 368
        },
        {
         "temperature": 22.1934,
         "_deepnote_index_column": 369
        },
        {
         "temperature": 22.2228,
         "_deepnote_index_column": 370
        },
        {
         "temperature": 22.2424,
         "_deepnote_index_column": 371
        },
        {
         "temperature": 22.3012,
         "_deepnote_index_column": 372
        },
        {
         "temperature": 22.36,
         "_deepnote_index_column": 373
        },
        {
         "temperature": 22.458,
         "_deepnote_index_column": 374
        },
        {
         "temperature": 22.4972,
         "_deepnote_index_column": 375
        },
        {
         "temperature": 22.5168,
         "_deepnote_index_column": 376
        },
        {
         "temperature": 22.4874,
         "_deepnote_index_column": 377
        },
        {
         "temperature": 22.5952,
         "_deepnote_index_column": 378
        },
        {
         "temperature": 22.6638,
         "_deepnote_index_column": 379
        },
        {
         "temperature": 22.6834,
         "_deepnote_index_column": 380
        },
        {
         "temperature": 22.6344,
         "_deepnote_index_column": 381
        },
        {
         "temperature": 22.6442,
         "_deepnote_index_column": 382
        },
        {
         "temperature": 22.7128,
         "_deepnote_index_column": 383
        },
        {
         "temperature": 22.7324,
         "_deepnote_index_column": 384
        },
        {
         "temperature": 22.7618,
         "_deepnote_index_column": 385
        },
        {
         "temperature": 22.752,
         "_deepnote_index_column": 386
        },
        {
         "temperature": 22.7324,
         "_deepnote_index_column": 387
        },
        {
         "temperature": 22.752,
         "_deepnote_index_column": 388
        },
        {
         "temperature": 22.7912,
         "_deepnote_index_column": 389
        },
        {
         "temperature": 22.7716,
         "_deepnote_index_column": 390
        },
        {
         "temperature": 22.8108,
         "_deepnote_index_column": 391
        },
        {
         "temperature": 22.8304,
         "_deepnote_index_column": 392
        },
        {
         "temperature": 22.8794,
         "_deepnote_index_column": 393
        },
        {
         "temperature": 22.8892,
         "_deepnote_index_column": 394
        },
        {
         "temperature": 22.9872,
         "_deepnote_index_column": 395
        },
        {
         "temperature": 23.0068,
         "_deepnote_index_column": 396
        },
        {
         "temperature": 23.0264,
         "_deepnote_index_column": 397
        },
        {
         "temperature": 23.0558,
         "_deepnote_index_column": 398
        },
        {
         "temperature": 23.0754,
         "_deepnote_index_column": 399
        },
        {
         "temperature": 23.0852,
         "_deepnote_index_column": 400
        },
        {
         "temperature": 23.0852,
         "_deepnote_index_column": 401
        },
        {
         "temperature": 23.1146,
         "_deepnote_index_column": 402
        },
        {
         "temperature": 23.193,
         "_deepnote_index_column": 403
        },
        {
         "temperature": 23.2616,
         "_deepnote_index_column": 404
        },
        {
         "temperature": 23.3008,
         "_deepnote_index_column": 405
        },
        {
         "temperature": 23.3596,
         "_deepnote_index_column": 406
        },
        {
         "temperature": 23.3302,
         "_deepnote_index_column": 407
        },
        {
         "temperature": 23.34,
         "_deepnote_index_column": 408
        },
        {
         "temperature": 23.4576,
         "_deepnote_index_column": 409
        },
        {
         "temperature": 23.487,
         "_deepnote_index_column": 410
        },
        {
         "temperature": 23.5262,
         "_deepnote_index_column": 411
        },
        {
         "temperature": 23.5164,
         "_deepnote_index_column": 412
        },
        {
         "temperature": 23.6046,
         "_deepnote_index_column": 413
        },
        {
         "temperature": 23.6536,
         "_deepnote_index_column": 414
        },
        {
         "temperature": 23.683,
         "_deepnote_index_column": 415
        },
        {
         "temperature": 23.6732,
         "_deepnote_index_column": 416
        },
        {
         "temperature": 23.683,
         "_deepnote_index_column": 417
        },
        {
         "temperature": 23.732,
         "_deepnote_index_column": 418
        },
        {
         "temperature": 23.732,
         "_deepnote_index_column": 419
        },
        {
         "temperature": 23.7418,
         "_deepnote_index_column": 420
        },
        {
         "temperature": 23.8104,
         "_deepnote_index_column": 421
        },
        {
         "temperature": 23.8496,
         "_deepnote_index_column": 422
        },
        {
         "temperature": 23.9084,
         "_deepnote_index_column": 423
        },
        {
         "temperature": 23.9182,
         "_deepnote_index_column": 424
        },
        {
         "temperature": 23.9084,
         "_deepnote_index_column": 425
        },
        {
         "temperature": 23.9182,
         "_deepnote_index_column": 426
        },
        {
         "temperature": 23.9378,
         "_deepnote_index_column": 427
        },
        {
         "temperature": 23.9574,
         "_deepnote_index_column": 428
        },
        {
         "temperature": 23.9672,
         "_deepnote_index_column": 429
        },
        {
         "temperature": 23.9868,
         "_deepnote_index_column": 430
        },
        {
         "temperature": 24.0064,
         "_deepnote_index_column": 431
        },
        {
         "temperature": 24.0162,
         "_deepnote_index_column": 432
        },
        {
         "temperature": 24.1142,
         "_deepnote_index_column": 433
        },
        {
         "temperature": 24.1436,
         "_deepnote_index_column": 434
        },
        {
         "temperature": 24.1828,
         "_deepnote_index_column": 435
        },
        {
         "temperature": 24.1828,
         "_deepnote_index_column": 436
        },
        {
         "temperature": 24.0848,
         "_deepnote_index_column": 437
        },
        {
         "temperature": 24.2122,
         "_deepnote_index_column": 438
        },
        {
         "temperature": 24.2808,
         "_deepnote_index_column": 439
        },
        {
         "temperature": 24.3984,
         "_deepnote_index_column": 440
        },
        {
         "temperature": 24.32,
         "_deepnote_index_column": 441
        },
        {
         "temperature": 24.3004,
         "_deepnote_index_column": 442
        },
        {
         "temperature": 24.3102,
         "_deepnote_index_column": 443
        },
        {
         "temperature": 24.3984,
         "_deepnote_index_column": 444
        },
        {
         "temperature": 24.4572,
         "_deepnote_index_column": 445
        },
        {
         "temperature": 24.4866,
         "_deepnote_index_column": 446
        },
        {
         "temperature": 24.4376,
         "_deepnote_index_column": 447
        },
        {
         "temperature": 24.3984,
         "_deepnote_index_column": 448
        },
        {
         "temperature": 24.3886,
         "_deepnote_index_column": 449
        },
        {
         "temperature": 24.4082,
         "_deepnote_index_column": 450
        },
        {
         "temperature": 24.3984,
         "_deepnote_index_column": 451
        },
        {
         "temperature": 24.418,
         "_deepnote_index_column": 452
        },
        {
         "temperature": 24.2612,
         "_deepnote_index_column": 453
        },
        {
         "temperature": 24.3494,
         "_deepnote_index_column": 454
        },
        {
         "temperature": 24.5062,
         "_deepnote_index_column": 455
        },
        {
         "temperature": 24.5356,
         "_deepnote_index_column": 456
        },
        {
         "temperature": 24.516,
         "_deepnote_index_column": 457
        },
        {
         "temperature": 24.5552,
         "_deepnote_index_column": 458
        },
        {
         "temperature": 24.5552,
         "_deepnote_index_column": 459
        },
        {
         "temperature": 24.565,
         "_deepnote_index_column": 460
        },
        {
         "temperature": 24.5748,
         "_deepnote_index_column": 461
        },
        {
         "temperature": 24.5552,
         "_deepnote_index_column": 462
        },
        {
         "temperature": 24.4376,
         "_deepnote_index_column": 463
        },
        {
         "temperature": 24.4474,
         "_deepnote_index_column": 464
        },
        {
         "temperature": 24.4572,
         "_deepnote_index_column": 465
        },
        {
         "temperature": 24.4474,
         "_deepnote_index_column": 466
        },
        {
         "temperature": 24.4572,
         "_deepnote_index_column": 467
        },
        {
         "temperature": 24.3886,
         "_deepnote_index_column": 468
        },
        {
         "temperature": 24.3494,
         "_deepnote_index_column": 469
        },
        {
         "temperature": 24.3004,
         "_deepnote_index_column": 470
        },
        {
         "temperature": 24.3102,
         "_deepnote_index_column": 471
        },
        {
         "temperature": 24.2808,
         "_deepnote_index_column": 472
        },
        {
         "temperature": 24.2024,
         "_deepnote_index_column": 473
        },
        {
         "temperature": 24.222,
         "_deepnote_index_column": 474
        },
        {
         "temperature": 24.2808,
         "_deepnote_index_column": 475
        },
        {
         "temperature": 24.2416,
         "_deepnote_index_column": 476
        },
        {
         "temperature": 24.3102,
         "_deepnote_index_column": 477
        },
        {
         "temperature": 24.3494,
         "_deepnote_index_column": 478
        },
        {
         "temperature": 24.3298,
         "_deepnote_index_column": 479
        },
        {
         "temperature": 24.3788,
         "_deepnote_index_column": 480
        },
        {
         "temperature": 24.3592,
         "_deepnote_index_column": 481
        },
        {
         "temperature": 24.3788,
         "_deepnote_index_column": 482
        },
        {
         "temperature": 24.3886,
         "_deepnote_index_column": 483
        },
        {
         "temperature": 24.3788,
         "_deepnote_index_column": 484
        },
        {
         "temperature": 24.3984,
         "_deepnote_index_column": 485
        },
        {
         "temperature": 24.3984,
         "_deepnote_index_column": 486
        },
        {
         "temperature": 24.3886,
         "_deepnote_index_column": 487
        },
        {
         "temperature": 24.418,
         "_deepnote_index_column": 488
        },
        {
         "temperature": 24.4376,
         "_deepnote_index_column": 489
        },
        {
         "temperature": 24.5258,
         "_deepnote_index_column": 490
        },
        {
         "temperature": 24.5258,
         "_deepnote_index_column": 491
        },
        {
         "temperature": 24.5944,
         "_deepnote_index_column": 492
        },
        {
         "temperature": 24.614,
         "_deepnote_index_column": 493
        },
        {
         "temperature": 24.614,
         "_deepnote_index_column": 494
        },
        {
         "temperature": 24.6434,
         "_deepnote_index_column": 495
        },
        {
         "temperature": 24.663,
         "_deepnote_index_column": 496
        },
        {
         "temperature": 24.6532,
         "_deepnote_index_column": 497
        },
        {
         "temperature": 24.6532,
         "_deepnote_index_column": 498
        },
        {
         "temperature": 24.614,
         "_deepnote_index_column": 499
        }
       ],
       "rows_bottom": [
        {
         "temperature": 19.567,
         "_deepnote_index_column": 35692
        },
        {
         "temperature": 19.5572,
         "_deepnote_index_column": 35693
        },
        {
         "temperature": 19.5376,
         "_deepnote_index_column": 35694
        },
        {
         "temperature": 19.5572,
         "_deepnote_index_column": 35695
        },
        {
         "temperature": 19.5768,
         "_deepnote_index_column": 35696
        },
        {
         "temperature": 19.5768,
         "_deepnote_index_column": 35697
        },
        {
         "temperature": 19.5866,
         "_deepnote_index_column": 35698
        },
        {
         "temperature": 19.6356,
         "_deepnote_index_column": 35699
        },
        {
         "temperature": 19.567,
         "_deepnote_index_column": 35700
        },
        {
         "temperature": 19.567,
         "_deepnote_index_column": 35701
        },
        {
         "temperature": 19.5572,
         "_deepnote_index_column": 35702
        },
        {
         "temperature": 19.567,
         "_deepnote_index_column": 35703
        },
        {
         "temperature": 19.5572,
         "_deepnote_index_column": 35704
        },
        {
         "temperature": 19.5572,
         "_deepnote_index_column": 35705
        },
        {
         "temperature": 19.5768,
         "_deepnote_index_column": 35706
        },
        {
         "temperature": 19.6552,
         "_deepnote_index_column": 35707
        },
        {
         "temperature": 19.5376,
         "_deepnote_index_column": 35708
        },
        {
         "temperature": 19.5376,
         "_deepnote_index_column": 35709
        },
        {
         "temperature": 19.5278,
         "_deepnote_index_column": 35710
        },
        {
         "temperature": 19.5376,
         "_deepnote_index_column": 35711
        },
        {
         "temperature": 19.5474,
         "_deepnote_index_column": 35712
        },
        {
         "temperature": 19.5474,
         "_deepnote_index_column": 35713
        },
        {
         "temperature": 19.5376,
         "_deepnote_index_column": 35714
        },
        {
         "temperature": 19.567,
         "_deepnote_index_column": 35715
        },
        {
         "temperature": 19.5572,
         "_deepnote_index_column": 35716
        },
        {
         "temperature": 19.5572,
         "_deepnote_index_column": 35717
        },
        {
         "temperature": 19.5768,
         "_deepnote_index_column": 35718
        },
        {
         "temperature": 19.5768,
         "_deepnote_index_column": 35719
        },
        {
         "temperature": 19.567,
         "_deepnote_index_column": 35720
        },
        {
         "temperature": 19.567,
         "_deepnote_index_column": 35721
        },
        {
         "temperature": 19.5572,
         "_deepnote_index_column": 35722
        },
        {
         "temperature": 19.5572,
         "_deepnote_index_column": 35723
        },
        {
         "temperature": 19.5768,
         "_deepnote_index_column": 35724
        },
        {
         "temperature": 19.5768,
         "_deepnote_index_column": 35725
        },
        {
         "temperature": 19.5572,
         "_deepnote_index_column": 35726
        },
        {
         "temperature": 19.5572,
         "_deepnote_index_column": 35727
        },
        {
         "temperature": 19.7336,
         "_deepnote_index_column": 35728
        },
        {
         "temperature": 19.567,
         "_deepnote_index_column": 35729
        },
        {
         "temperature": 19.5768,
         "_deepnote_index_column": 35730
        },
        {
         "temperature": 19.567,
         "_deepnote_index_column": 35731
        },
        {
         "temperature": 19.5768,
         "_deepnote_index_column": 35732
        },
        {
         "temperature": 19.5572,
         "_deepnote_index_column": 35733
        },
        {
         "temperature": 19.5572,
         "_deepnote_index_column": 35734
        },
        {
         "temperature": 19.5768,
         "_deepnote_index_column": 35735
        },
        {
         "temperature": 19.6552,
         "_deepnote_index_column": 35736
        },
        {
         "temperature": 19.567,
         "_deepnote_index_column": 35737
        },
        {
         "temperature": 19.5768,
         "_deepnote_index_column": 35738
        },
        {
         "temperature": 19.567,
         "_deepnote_index_column": 35739
        },
        {
         "temperature": 19.567,
         "_deepnote_index_column": 35740
        },
        {
         "temperature": 19.5768,
         "_deepnote_index_column": 35741
        },
        {
         "temperature": 19.567,
         "_deepnote_index_column": 35742
        },
        {
         "temperature": 19.5768,
         "_deepnote_index_column": 35743
        },
        {
         "temperature": 19.567,
         "_deepnote_index_column": 35744
        },
        {
         "temperature": 19.5964,
         "_deepnote_index_column": 35745
        },
        {
         "temperature": 19.6062,
         "_deepnote_index_column": 35746
        },
        {
         "temperature": 19.6062,
         "_deepnote_index_column": 35747
        },
        {
         "temperature": 19.6258,
         "_deepnote_index_column": 35748
        },
        {
         "temperature": 19.6062,
         "_deepnote_index_column": 35749
        },
        {
         "temperature": 19.6454,
         "_deepnote_index_column": 35750
        },
        {
         "temperature": 19.6356,
         "_deepnote_index_column": 35751
        },
        {
         "temperature": 19.6552,
         "_deepnote_index_column": 35752
        },
        {
         "temperature": 19.6454,
         "_deepnote_index_column": 35753
        },
        {
         "temperature": 19.6454,
         "_deepnote_index_column": 35754
        },
        {
         "temperature": 19.6552,
         "_deepnote_index_column": 35755
        },
        {
         "temperature": 19.665,
         "_deepnote_index_column": 35756
        },
        {
         "temperature": 19.7532,
         "_deepnote_index_column": 35757
        },
        {
         "temperature": 19.6748,
         "_deepnote_index_column": 35758
        },
        {
         "temperature": 19.665,
         "_deepnote_index_column": 35759
        },
        {
         "temperature": 19.6552,
         "_deepnote_index_column": 35760
        },
        {
         "temperature": 19.7434,
         "_deepnote_index_column": 35761
        },
        {
         "temperature": 19.6552,
         "_deepnote_index_column": 35762
        },
        {
         "temperature": 19.6552,
         "_deepnote_index_column": 35763
        },
        {
         "temperature": 19.6552,
         "_deepnote_index_column": 35764
        },
        {
         "temperature": 19.6748,
         "_deepnote_index_column": 35765
        },
        {
         "temperature": 19.6846,
         "_deepnote_index_column": 35766
        },
        {
         "temperature": 19.6748,
         "_deepnote_index_column": 35767
        },
        {
         "temperature": 19.6748,
         "_deepnote_index_column": 35768
        },
        {
         "temperature": 19.665,
         "_deepnote_index_column": 35769
        },
        {
         "temperature": 19.6846,
         "_deepnote_index_column": 35770
        },
        {
         "temperature": 19.6748,
         "_deepnote_index_column": 35771
        },
        {
         "temperature": 19.6944,
         "_deepnote_index_column": 35772
        },
        {
         "temperature": 19.7042,
         "_deepnote_index_column": 35773
        },
        {
         "temperature": 19.7238,
         "_deepnote_index_column": 35774
        },
        {
         "temperature": 19.714,
         "_deepnote_index_column": 35775
        },
        {
         "temperature": 19.7336,
         "_deepnote_index_column": 35776
        },
        {
         "temperature": 19.7336,
         "_deepnote_index_column": 35777
        },
        {
         "temperature": 19.7336,
         "_deepnote_index_column": 35778
        },
        {
         "temperature": 19.7434,
         "_deepnote_index_column": 35779
        },
        {
         "temperature": 19.7238,
         "_deepnote_index_column": 35780
        },
        {
         "temperature": 19.7532,
         "_deepnote_index_column": 35781
        },
        {
         "temperature": 19.7728,
         "_deepnote_index_column": 35782
        },
        {
         "temperature": 19.763,
         "_deepnote_index_column": 35783
        },
        {
         "temperature": 19.8022,
         "_deepnote_index_column": 35784
        },
        {
         "temperature": 19.8218,
         "_deepnote_index_column": 35785
        },
        {
         "temperature": 19.8316,
         "_deepnote_index_column": 35786
        },
        {
         "temperature": 19.8414,
         "_deepnote_index_column": 35787
        },
        {
         "temperature": 19.861,
         "_deepnote_index_column": 35788
        },
        {
         "temperature": 19.8708,
         "_deepnote_index_column": 35789
        },
        {
         "temperature": 19.8806,
         "_deepnote_index_column": 35790
        },
        {
         "temperature": 19.91,
         "_deepnote_index_column": 35791
        },
        {
         "temperature": 19.91,
         "_deepnote_index_column": 35792
        },
        {
         "temperature": 19.9296,
         "_deepnote_index_column": 35793
        },
        {
         "temperature": 19.9394,
         "_deepnote_index_column": 35794
        },
        {
         "temperature": 19.959,
         "_deepnote_index_column": 35795
        },
        {
         "temperature": 19.9786,
         "_deepnote_index_column": 35796
        },
        {
         "temperature": 19.9786,
         "_deepnote_index_column": 35797
        },
        {
         "temperature": 19.9884,
         "_deepnote_index_column": 35798
        },
        {
         "temperature": 19.9884,
         "_deepnote_index_column": 35799
        },
        {
         "temperature": 20.0668,
         "_deepnote_index_column": 35800
        },
        {
         "temperature": 20.743,
         "_deepnote_index_column": 35801
        },
        {
         "temperature": 20.8116,
         "_deepnote_index_column": 35802
        },
        {
         "temperature": 21.0272,
         "_deepnote_index_column": 35803
        },
        {
         "temperature": 21.086,
         "_deepnote_index_column": 35804
        },
        {
         "temperature": 21.2428,
         "_deepnote_index_column": 35805
        },
        {
         "temperature": 21.282,
         "_deepnote_index_column": 35806
        },
        {
         "temperature": 21.3996,
         "_deepnote_index_column": 35807
        },
        {
         "temperature": 21.5564,
         "_deepnote_index_column": 35808
        },
        {
         "temperature": 21.772,
         "_deepnote_index_column": 35809
        },
        {
         "temperature": 21.8896,
         "_deepnote_index_column": 35810
        },
        {
         "temperature": 21.9484,
         "_deepnote_index_column": 35811
        },
        {
         "temperature": 22.0072,
         "_deepnote_index_column": 35812
        },
        {
         "temperature": 22.164,
         "_deepnote_index_column": 35813
        },
        {
         "temperature": 22.36,
         "_deepnote_index_column": 35814
        },
        {
         "temperature": 22.4188,
         "_deepnote_index_column": 35815
        },
        {
         "temperature": 22.605,
         "_deepnote_index_column": 35816
        },
        {
         "temperature": 22.6344,
         "_deepnote_index_column": 35817
        },
        {
         "temperature": 22.6736,
         "_deepnote_index_column": 35818
        },
        {
         "temperature": 22.7716,
         "_deepnote_index_column": 35819
        },
        {
         "temperature": 22.801,
         "_deepnote_index_column": 35820
        },
        {
         "temperature": 22.9284,
         "_deepnote_index_column": 35821
        },
        {
         "temperature": 23.0068,
         "_deepnote_index_column": 35822
        },
        {
         "temperature": 23.0264,
         "_deepnote_index_column": 35823
        },
        {
         "temperature": 23.1146,
         "_deepnote_index_column": 35824
        },
        {
         "temperature": 23.144,
         "_deepnote_index_column": 35825
        },
        {
         "temperature": 23.242,
         "_deepnote_index_column": 35826
        },
        {
         "temperature": 23.2812,
         "_deepnote_index_column": 35827
        },
        {
         "temperature": 23.34,
         "_deepnote_index_column": 35828
        },
        {
         "temperature": 23.3596,
         "_deepnote_index_column": 35829
        },
        {
         "temperature": 23.3792,
         "_deepnote_index_column": 35830
        },
        {
         "temperature": 23.3792,
         "_deepnote_index_column": 35831
        },
        {
         "temperature": 23.3988,
         "_deepnote_index_column": 35832
        },
        {
         "temperature": 23.4478,
         "_deepnote_index_column": 35833
        },
        {
         "temperature": 23.5458,
         "_deepnote_index_column": 35834
        },
        {
         "temperature": 23.5654,
         "_deepnote_index_column": 35835
        },
        {
         "temperature": 23.5948,
         "_deepnote_index_column": 35836
        },
        {
         "temperature": 23.6144,
         "_deepnote_index_column": 35837
        },
        {
         "temperature": 23.6732,
         "_deepnote_index_column": 35838
        },
        {
         "temperature": 23.7124,
         "_deepnote_index_column": 35839
        },
        {
         "temperature": 23.732,
         "_deepnote_index_column": 35840
        },
        {
         "temperature": 23.7614,
         "_deepnote_index_column": 35841
        },
        {
         "temperature": 23.781,
         "_deepnote_index_column": 35842
        },
        {
         "temperature": 23.7712,
         "_deepnote_index_column": 35843
        },
        {
         "temperature": 23.7712,
         "_deepnote_index_column": 35844
        },
        {
         "temperature": 23.7712,
         "_deepnote_index_column": 35845
        },
        {
         "temperature": 23.7908,
         "_deepnote_index_column": 35846
        },
        {
         "temperature": 23.9084,
         "_deepnote_index_column": 35847
        },
        {
         "temperature": 23.9574,
         "_deepnote_index_column": 35848
        },
        {
         "temperature": 23.977,
         "_deepnote_index_column": 35849
        },
        {
         "temperature": 24.0064,
         "_deepnote_index_column": 35850
        },
        {
         "temperature": 24.026,
         "_deepnote_index_column": 35851
        },
        {
         "temperature": 24.2612,
         "_deepnote_index_column": 35852
        },
        {
         "temperature": 24.2906,
         "_deepnote_index_column": 35853
        },
        {
         "temperature": 24.32,
         "_deepnote_index_column": 35854
        },
        {
         "temperature": 24.3788,
         "_deepnote_index_column": 35855
        },
        {
         "temperature": 24.4278,
         "_deepnote_index_column": 35856
        },
        {
         "temperature": 24.4278,
         "_deepnote_index_column": 35857
        },
        {
         "temperature": 24.418,
         "_deepnote_index_column": 35858
        },
        {
         "temperature": 24.418,
         "_deepnote_index_column": 35859
        },
        {
         "temperature": 24.4474,
         "_deepnote_index_column": 35860
        },
        {
         "temperature": 24.4376,
         "_deepnote_index_column": 35861
        },
        {
         "temperature": 24.4474,
         "_deepnote_index_column": 35862
        },
        {
         "temperature": 24.4474,
         "_deepnote_index_column": 35863
        },
        {
         "temperature": 24.4768,
         "_deepnote_index_column": 35864
        },
        {
         "temperature": 24.467,
         "_deepnote_index_column": 35865
        },
        {
         "temperature": 24.5356,
         "_deepnote_index_column": 35866
        },
        {
         "temperature": 24.5552,
         "_deepnote_index_column": 35867
        },
        {
         "temperature": 24.5552,
         "_deepnote_index_column": 35868
        },
        {
         "temperature": 24.565,
         "_deepnote_index_column": 35869
        },
        {
         "temperature": 24.5944,
         "_deepnote_index_column": 35870
        },
        {
         "temperature": 24.5944,
         "_deepnote_index_column": 35871
        },
        {
         "temperature": 24.663,
         "_deepnote_index_column": 35872
        },
        {
         "temperature": 24.565,
         "_deepnote_index_column": 35873
        },
        {
         "temperature": 24.7904,
         "_deepnote_index_column": 35874
        },
        {
         "temperature": 24.6924,
         "_deepnote_index_column": 35875
        },
        {
         "temperature": 24.7316,
         "_deepnote_index_column": 35876
        },
        {
         "temperature": 24.565,
         "_deepnote_index_column": 35877
        },
        {
         "temperature": 24.5552,
         "_deepnote_index_column": 35878
        },
        {
         "temperature": 24.8002,
         "_deepnote_index_column": 35879
        },
        {
         "temperature": 24.7512,
         "_deepnote_index_column": 35880
        },
        {
         "temperature": 24.5356,
         "_deepnote_index_column": 35881
        },
        {
         "temperature": 24.5552,
         "_deepnote_index_column": 35882
        },
        {
         "temperature": 24.565,
         "_deepnote_index_column": 35883
        },
        {
         "temperature": 24.5356,
         "_deepnote_index_column": 35884
        },
        {
         "temperature": 24.5356,
         "_deepnote_index_column": 35885
        },
        {
         "temperature": 24.5748,
         "_deepnote_index_column": 35886
        },
        {
         "temperature": 24.5748,
         "_deepnote_index_column": 35887
        },
        {
         "temperature": 24.5748,
         "_deepnote_index_column": 35888
        },
        {
         "temperature": 24.5944,
         "_deepnote_index_column": 35889
        },
        {
         "temperature": 24.5846,
         "_deepnote_index_column": 35890
        },
        {
         "temperature": 24.5944,
         "_deepnote_index_column": 35891
        },
        {
         "temperature": 24.5258,
         "_deepnote_index_column": 35892
        },
        {
         "temperature": 24.5258,
         "_deepnote_index_column": 35893
        },
        {
         "temperature": 24.4964,
         "_deepnote_index_column": 35894
        },
        {
         "temperature": 24.565,
         "_deepnote_index_column": 35895
        },
        {
         "temperature": 24.5454,
         "_deepnote_index_column": 35896
        },
        {
         "temperature": 24.5552,
         "_deepnote_index_column": 35897
        },
        {
         "temperature": 24.5748,
         "_deepnote_index_column": 35898
        },
        {
         "temperature": 24.5258,
         "_deepnote_index_column": 35899
        },
        {
         "temperature": 24.516,
         "_deepnote_index_column": 35900
        },
        {
         "temperature": 24.5846,
         "_deepnote_index_column": 35901
        },
        {
         "temperature": 24.5944,
         "_deepnote_index_column": 35902
        },
        {
         "temperature": 24.6532,
         "_deepnote_index_column": 35903
        },
        {
         "temperature": 24.6042,
         "_deepnote_index_column": 35904
        },
        {
         "temperature": 24.614,
         "_deepnote_index_column": 35905
        },
        {
         "temperature": 24.614,
         "_deepnote_index_column": 35906
        },
        {
         "temperature": 24.6238,
         "_deepnote_index_column": 35907
        },
        {
         "temperature": 24.6336,
         "_deepnote_index_column": 35908
        },
        {
         "temperature": 24.6336,
         "_deepnote_index_column": 35909
        },
        {
         "temperature": 24.6532,
         "_deepnote_index_column": 35910
        },
        {
         "temperature": 24.6826,
         "_deepnote_index_column": 35911
        },
        {
         "temperature": 24.6042,
         "_deepnote_index_column": 35912
        },
        {
         "temperature": 24.5356,
         "_deepnote_index_column": 35913
        },
        {
         "temperature": 24.4964,
         "_deepnote_index_column": 35914
        },
        {
         "temperature": 24.4866,
         "_deepnote_index_column": 35915
        },
        {
         "temperature": 24.4768,
         "_deepnote_index_column": 35916
        },
        {
         "temperature": 24.4376,
         "_deepnote_index_column": 35917
        },
        {
         "temperature": 24.712,
         "_deepnote_index_column": 35918
        },
        {
         "temperature": 24.7218,
         "_deepnote_index_column": 35919
        },
        {
         "temperature": 24.7218,
         "_deepnote_index_column": 35920
        },
        {
         "temperature": 24.712,
         "_deepnote_index_column": 35921
        },
        {
         "temperature": 24.712,
         "_deepnote_index_column": 35922
        },
        {
         "temperature": 24.712,
         "_deepnote_index_column": 35923
        },
        {
         "temperature": 24.7512,
         "_deepnote_index_column": 35924
        },
        {
         "temperature": 24.81,
         "_deepnote_index_column": 35925
        },
        {
         "temperature": 24.81,
         "_deepnote_index_column": 35926
        },
        {
         "temperature": 24.8492,
         "_deepnote_index_column": 35927
        },
        {
         "temperature": 24.8296,
         "_deepnote_index_column": 35928
        },
        {
         "temperature": 24.8002,
         "_deepnote_index_column": 35929
        },
        {
         "temperature": 24.8002,
         "_deepnote_index_column": 35930
        },
        {
         "temperature": 24.7708,
         "_deepnote_index_column": 35931
        },
        {
         "temperature": 24.7512,
         "_deepnote_index_column": 35932
        },
        {
         "temperature": 24.7512,
         "_deepnote_index_column": 35933
        },
        {
         "temperature": 24.6042,
         "_deepnote_index_column": 35934
        },
        {
         "temperature": 24.6336,
         "_deepnote_index_column": 35935
        },
        {
         "temperature": 24.5944,
         "_deepnote_index_column": 35936
        },
        {
         "temperature": 24.5356,
         "_deepnote_index_column": 35937
        },
        {
         "temperature": 24.5944,
         "_deepnote_index_column": 35938
        },
        {
         "temperature": 24.5552,
         "_deepnote_index_column": 35939
        },
        {
         "temperature": 24.4964,
         "_deepnote_index_column": 35940
        },
        {
         "temperature": 24.4572,
         "_deepnote_index_column": 35941
        },
        {
         "temperature": 24.516,
         "_deepnote_index_column": 35942
        },
        {
         "temperature": 24.4866,
         "_deepnote_index_column": 35943
        },
        {
         "temperature": 24.467,
         "_deepnote_index_column": 35944
        },
        {
         "temperature": 24.4572,
         "_deepnote_index_column": 35945
        },
        {
         "temperature": 24.5062,
         "_deepnote_index_column": 35946
        },
        {
         "temperature": 24.5454,
         "_deepnote_index_column": 35947
        },
        {
         "temperature": 24.516,
         "_deepnote_index_column": 35948
        },
        {
         "temperature": 24.4768,
         "_deepnote_index_column": 35949
        },
        {
         "temperature": 24.4964,
         "_deepnote_index_column": 35950
        },
        {
         "temperature": 24.4572,
         "_deepnote_index_column": 35951
        },
        {
         "temperature": 24.418,
         "_deepnote_index_column": 35952
        },
        {
         "temperature": 24.4278,
         "_deepnote_index_column": 35953
        },
        {
         "temperature": 24.4376,
         "_deepnote_index_column": 35954
        },
        {
         "temperature": 24.3984,
         "_deepnote_index_column": 35955
        },
        {
         "temperature": 24.3984,
         "_deepnote_index_column": 35956
        },
        {
         "temperature": 24.4082,
         "_deepnote_index_column": 35957
        },
        {
         "temperature": 24.3396,
         "_deepnote_index_column": 35958
        },
        {
         "temperature": 24.2416,
         "_deepnote_index_column": 35959
        },
        {
         "temperature": 24.2318,
         "_deepnote_index_column": 35960
        },
        {
         "temperature": 24.2024,
         "_deepnote_index_column": 35961
        },
        {
         "temperature": 24.1828,
         "_deepnote_index_column": 35962
        },
        {
         "temperature": 24.1632,
         "_deepnote_index_column": 35963
        },
        {
         "temperature": 24.2024,
         "_deepnote_index_column": 35964
        },
        {
         "temperature": 24.222,
         "_deepnote_index_column": 35965
        },
        {
         "temperature": 24.2024,
         "_deepnote_index_column": 35966
        },
        {
         "temperature": 24.1632,
         "_deepnote_index_column": 35967
        },
        {
         "temperature": 24.0848,
         "_deepnote_index_column": 35968
        },
        {
         "temperature": 24.0848,
         "_deepnote_index_column": 35969
        },
        {
         "temperature": 24.124,
         "_deepnote_index_column": 35970
        },
        {
         "temperature": 24.1436,
         "_deepnote_index_column": 35971
        },
        {
         "temperature": 24.173,
         "_deepnote_index_column": 35972
        },
        {
         "temperature": 24.173,
         "_deepnote_index_column": 35973
        },
        {
         "temperature": 24.173,
         "_deepnote_index_column": 35974
        },
        {
         "temperature": 24.1436,
         "_deepnote_index_column": 35975
        },
        {
         "temperature": 23.977,
         "_deepnote_index_column": 35976
        },
        {
         "temperature": 23.9868,
         "_deepnote_index_column": 35977
        },
        {
         "temperature": 23.9476,
         "_deepnote_index_column": 35978
        },
        {
         "temperature": 23.928,
         "_deepnote_index_column": 35979
        },
        {
         "temperature": 23.9182,
         "_deepnote_index_column": 35980
        },
        {
         "temperature": 23.83,
         "_deepnote_index_column": 35981
        },
        {
         "temperature": 23.83,
         "_deepnote_index_column": 35982
        },
        {
         "temperature": 23.8006,
         "_deepnote_index_column": 35983
        },
        {
         "temperature": 23.7516,
         "_deepnote_index_column": 35984
        },
        {
         "temperature": 23.7516,
         "_deepnote_index_column": 35985
        },
        {
         "temperature": 23.7418,
         "_deepnote_index_column": 35986
        },
        {
         "temperature": 23.7712,
         "_deepnote_index_column": 35987
        },
        {
         "temperature": 23.732,
         "_deepnote_index_column": 35988
        },
        {
         "temperature": 23.7124,
         "_deepnote_index_column": 35989
        },
        {
         "temperature": 23.7026,
         "_deepnote_index_column": 35990
        },
        {
         "temperature": 23.7712,
         "_deepnote_index_column": 35991
        },
        {
         "temperature": 23.7026,
         "_deepnote_index_column": 35992
        },
        {
         "temperature": 23.7026,
         "_deepnote_index_column": 35993
        },
        {
         "temperature": 23.6928,
         "_deepnote_index_column": 35994
        },
        {
         "temperature": 23.6732,
         "_deepnote_index_column": 35995
        },
        {
         "temperature": 23.6732,
         "_deepnote_index_column": 35996
        },
        {
         "temperature": 23.6732,
         "_deepnote_index_column": 35997
        },
        {
         "temperature": 23.6242,
         "_deepnote_index_column": 35998
        },
        {
         "temperature": 23.6144,
         "_deepnote_index_column": 35999
        },
        {
         "temperature": 23.5752,
         "_deepnote_index_column": 36000
        },
        {
         "temperature": 23.536,
         "_deepnote_index_column": 36001
        },
        {
         "temperature": 23.4282,
         "_deepnote_index_column": 36002
        },
        {
         "temperature": 23.3596,
         "_deepnote_index_column": 36003
        },
        {
         "temperature": 23.34,
         "_deepnote_index_column": 36004
        },
        {
         "temperature": 23.3302,
         "_deepnote_index_column": 36005
        },
        {
         "temperature": 23.3106,
         "_deepnote_index_column": 36006
        },
        {
         "temperature": 23.3106,
         "_deepnote_index_column": 36007
        },
        {
         "temperature": 23.291,
         "_deepnote_index_column": 36008
        },
        {
         "temperature": 23.193,
         "_deepnote_index_column": 36009
        },
        {
         "temperature": 23.2028,
         "_deepnote_index_column": 36010
        },
        {
         "temperature": 23.1832,
         "_deepnote_index_column": 36011
        },
        {
         "temperature": 23.1734,
         "_deepnote_index_column": 36012
        },
        {
         "temperature": 23.1636,
         "_deepnote_index_column": 36013
        },
        {
         "temperature": 23.144,
         "_deepnote_index_column": 36014
        },
        {
         "temperature": 23.1342,
         "_deepnote_index_column": 36015
        },
        {
         "temperature": 23.1146,
         "_deepnote_index_column": 36016
        },
        {
         "temperature": 23.0754,
         "_deepnote_index_column": 36017
        },
        {
         "temperature": 23.0264,
         "_deepnote_index_column": 36018
        },
        {
         "temperature": 23.0166,
         "_deepnote_index_column": 36019
        },
        {
         "temperature": 22.9676,
         "_deepnote_index_column": 36020
        },
        {
         "temperature": 22.9088,
         "_deepnote_index_column": 36021
        },
        {
         "temperature": 22.9088,
         "_deepnote_index_column": 36022
        },
        {
         "temperature": 22.8892,
         "_deepnote_index_column": 36023
        },
        {
         "temperature": 22.8892,
         "_deepnote_index_column": 36024
        },
        {
         "temperature": 22.899,
         "_deepnote_index_column": 36025
        },
        {
         "temperature": 22.9088,
         "_deepnote_index_column": 36026
        },
        {
         "temperature": 22.899,
         "_deepnote_index_column": 36027
        },
        {
         "temperature": 22.899,
         "_deepnote_index_column": 36028
        },
        {
         "temperature": 22.9186,
         "_deepnote_index_column": 36029
        },
        {
         "temperature": 22.8892,
         "_deepnote_index_column": 36030
        },
        {
         "temperature": 22.8892,
         "_deepnote_index_column": 36031
        },
        {
         "temperature": 22.8892,
         "_deepnote_index_column": 36032
        },
        {
         "temperature": 22.8794,
         "_deepnote_index_column": 36033
        },
        {
         "temperature": 22.8892,
         "_deepnote_index_column": 36034
        },
        {
         "temperature": 22.8794,
         "_deepnote_index_column": 36035
        },
        {
         "temperature": 22.8794,
         "_deepnote_index_column": 36036
        },
        {
         "temperature": 22.8598,
         "_deepnote_index_column": 36037
        },
        {
         "temperature": 22.8598,
         "_deepnote_index_column": 36038
        },
        {
         "temperature": 22.8696,
         "_deepnote_index_column": 36039
        },
        {
         "temperature": 22.8402,
         "_deepnote_index_column": 36040
        },
        {
         "temperature": 22.85,
         "_deepnote_index_column": 36041
        },
        {
         "temperature": 22.8108,
         "_deepnote_index_column": 36042
        },
        {
         "temperature": 22.7716,
         "_deepnote_index_column": 36043
        },
        {
         "temperature": 22.7912,
         "_deepnote_index_column": 36044
        },
        {
         "temperature": 22.7814,
         "_deepnote_index_column": 36045
        },
        {
         "temperature": 22.752,
         "_deepnote_index_column": 36046
        },
        {
         "temperature": 22.7324,
         "_deepnote_index_column": 36047
        },
        {
         "temperature": 22.7422,
         "_deepnote_index_column": 36048
        },
        {
         "temperature": 22.7422,
         "_deepnote_index_column": 36049
        },
        {
         "temperature": 22.7324,
         "_deepnote_index_column": 36050
        },
        {
         "temperature": 22.7128,
         "_deepnote_index_column": 36051
        },
        {
         "temperature": 22.7226,
         "_deepnote_index_column": 36052
        },
        {
         "temperature": 22.7422,
         "_deepnote_index_column": 36053
        },
        {
         "temperature": 22.7324,
         "_deepnote_index_column": 36054
        },
        {
         "temperature": 22.7324,
         "_deepnote_index_column": 36055
        },
        {
         "temperature": 22.7422,
         "_deepnote_index_column": 36056
        },
        {
         "temperature": 22.7324,
         "_deepnote_index_column": 36057
        },
        {
         "temperature": 22.7324,
         "_deepnote_index_column": 36058
        },
        {
         "temperature": 22.7324,
         "_deepnote_index_column": 36059
        },
        {
         "temperature": 22.6834,
         "_deepnote_index_column": 36060
        },
        {
         "temperature": 22.6736,
         "_deepnote_index_column": 36061
        },
        {
         "temperature": 22.654,
         "_deepnote_index_column": 36062
        },
        {
         "temperature": 22.654,
         "_deepnote_index_column": 36063
        },
        {
         "temperature": 22.6442,
         "_deepnote_index_column": 36064
        },
        {
         "temperature": 22.6442,
         "_deepnote_index_column": 36065
        },
        {
         "temperature": 22.6246,
         "_deepnote_index_column": 36066
        },
        {
         "temperature": 22.6246,
         "_deepnote_index_column": 36067
        },
        {
         "temperature": 22.5952,
         "_deepnote_index_column": 36068
        },
        {
         "temperature": 22.5462,
         "_deepnote_index_column": 36069
        },
        {
         "temperature": 22.507,
         "_deepnote_index_column": 36070
        },
        {
         "temperature": 22.507,
         "_deepnote_index_column": 36071
        },
        {
         "temperature": 22.4874,
         "_deepnote_index_column": 36072
        },
        {
         "temperature": 22.458,
         "_deepnote_index_column": 36073
        },
        {
         "temperature": 22.4384,
         "_deepnote_index_column": 36074
        },
        {
         "temperature": 22.4384,
         "_deepnote_index_column": 36075
        },
        {
         "temperature": 22.4286,
         "_deepnote_index_column": 36076
        },
        {
         "temperature": 22.4384,
         "_deepnote_index_column": 36077
        },
        {
         "temperature": 22.409,
         "_deepnote_index_column": 36078
        },
        {
         "temperature": 22.3992,
         "_deepnote_index_column": 36079
        },
        {
         "temperature": 22.3796,
         "_deepnote_index_column": 36080
        },
        {
         "temperature": 22.3698,
         "_deepnote_index_column": 36081
        },
        {
         "temperature": 22.3698,
         "_deepnote_index_column": 36082
        },
        {
         "temperature": 22.36,
         "_deepnote_index_column": 36083
        },
        {
         "temperature": 22.36,
         "_deepnote_index_column": 36084
        },
        {
         "temperature": 22.311,
         "_deepnote_index_column": 36085
        },
        {
         "temperature": 22.2816,
         "_deepnote_index_column": 36086
        },
        {
         "temperature": 22.262,
         "_deepnote_index_column": 36087
        },
        {
         "temperature": 22.2228,
         "_deepnote_index_column": 36088
        },
        {
         "temperature": 22.1836,
         "_deepnote_index_column": 36089
        },
        {
         "temperature": 22.1738,
         "_deepnote_index_column": 36090
        },
        {
         "temperature": 22.1444,
         "_deepnote_index_column": 36091
        },
        {
         "temperature": 22.1444,
         "_deepnote_index_column": 36092
        },
        {
         "temperature": 22.1444,
         "_deepnote_index_column": 36093
        },
        {
         "temperature": 22.115,
         "_deepnote_index_column": 36094
        },
        {
         "temperature": 22.0954,
         "_deepnote_index_column": 36095
        },
        {
         "temperature": 22.0856,
         "_deepnote_index_column": 36096
        },
        {
         "temperature": 22.115,
         "_deepnote_index_column": 36097
        },
        {
         "temperature": 22.115,
         "_deepnote_index_column": 36098
        },
        {
         "temperature": 22.1248,
         "_deepnote_index_column": 36099
        },
        {
         "temperature": 22.1346,
         "_deepnote_index_column": 36100
        },
        {
         "temperature": 22.1052,
         "_deepnote_index_column": 36101
        },
        {
         "temperature": 22.1248,
         "_deepnote_index_column": 36102
        },
        {
         "temperature": 22.0856,
         "_deepnote_index_column": 36103
        },
        {
         "temperature": 22.0856,
         "_deepnote_index_column": 36104
        },
        {
         "temperature": 22.0562,
         "_deepnote_index_column": 36105
        },
        {
         "temperature": 22.066,
         "_deepnote_index_column": 36106
        },
        {
         "temperature": 22.066,
         "_deepnote_index_column": 36107
        },
        {
         "temperature": 22.0562,
         "_deepnote_index_column": 36108
        },
        {
         "temperature": 22.0464,
         "_deepnote_index_column": 36109
        },
        {
         "temperature": 22.0464,
         "_deepnote_index_column": 36110
        },
        {
         "temperature": 22.0464,
         "_deepnote_index_column": 36111
        },
        {
         "temperature": 22.0268,
         "_deepnote_index_column": 36112
        },
        {
         "temperature": 22.0366,
         "_deepnote_index_column": 36113
        },
        {
         "temperature": 22.0268,
         "_deepnote_index_column": 36114
        },
        {
         "temperature": 22.017,
         "_deepnote_index_column": 36115
        },
        {
         "temperature": 22.0072,
         "_deepnote_index_column": 36116
        },
        {
         "temperature": 21.9876,
         "_deepnote_index_column": 36117
        },
        {
         "temperature": 21.9778,
         "_deepnote_index_column": 36118
        },
        {
         "temperature": 21.9582,
         "_deepnote_index_column": 36119
        },
        {
         "temperature": 21.968,
         "_deepnote_index_column": 36120
        },
        {
         "temperature": 21.9778,
         "_deepnote_index_column": 36121
        },
        {
         "temperature": 21.9484,
         "_deepnote_index_column": 36122
        },
        {
         "temperature": 21.9386,
         "_deepnote_index_column": 36123
        },
        {
         "temperature": 21.9288,
         "_deepnote_index_column": 36124
        },
        {
         "temperature": 21.8994,
         "_deepnote_index_column": 36125
        },
        {
         "temperature": 21.8308,
         "_deepnote_index_column": 36126
        },
        {
         "temperature": 21.8308,
         "_deepnote_index_column": 36127
        },
        {
         "temperature": 21.8112,
         "_deepnote_index_column": 36128
        },
        {
         "temperature": 21.8112,
         "_deepnote_index_column": 36129
        },
        {
         "temperature": 21.8112,
         "_deepnote_index_column": 36130
        },
        {
         "temperature": 21.7916,
         "_deepnote_index_column": 36131
        },
        {
         "temperature": 21.8014,
         "_deepnote_index_column": 36132
        },
        {
         "temperature": 21.772,
         "_deepnote_index_column": 36133
        },
        {
         "temperature": 21.7524,
         "_deepnote_index_column": 36134
        },
        {
         "temperature": 21.7622,
         "_deepnote_index_column": 36135
        },
        {
         "temperature": 21.7524,
         "_deepnote_index_column": 36136
        },
        {
         "temperature": 21.7328,
         "_deepnote_index_column": 36137
        },
        {
         "temperature": 21.7426,
         "_deepnote_index_column": 36138
        },
        {
         "temperature": 21.723,
         "_deepnote_index_column": 36139
        },
        {
         "temperature": 21.723,
         "_deepnote_index_column": 36140
        },
        {
         "temperature": 21.6838,
         "_deepnote_index_column": 36141
        },
        {
         "temperature": 21.6838,
         "_deepnote_index_column": 36142
        },
        {
         "temperature": 21.6642,
         "_deepnote_index_column": 36143
        },
        {
         "temperature": 21.6642,
         "_deepnote_index_column": 36144
        },
        {
         "temperature": 21.6544,
         "_deepnote_index_column": 36145
        },
        {
         "temperature": 21.6446,
         "_deepnote_index_column": 36146
        },
        {
         "temperature": 21.6348,
         "_deepnote_index_column": 36147
        },
        {
         "temperature": 21.6446,
         "_deepnote_index_column": 36148
        },
        {
         "temperature": 21.5858,
         "_deepnote_index_column": 36149
        },
        {
         "temperature": 21.5662,
         "_deepnote_index_column": 36150
        },
        {
         "temperature": 21.5466,
         "_deepnote_index_column": 36151
        },
        {
         "temperature": 21.5368,
         "_deepnote_index_column": 36152
        },
        {
         "temperature": 21.5172,
         "_deepnote_index_column": 36153
        },
        {
         "temperature": 21.4976,
         "_deepnote_index_column": 36154
        },
        {
         "temperature": 21.478,
         "_deepnote_index_column": 36155
        },
        {
         "temperature": 21.4388,
         "_deepnote_index_column": 36156
        },
        {
         "temperature": 21.4388,
         "_deepnote_index_column": 36157
        },
        {
         "temperature": 21.4192,
         "_deepnote_index_column": 36158
        },
        {
         "temperature": 21.4192,
         "_deepnote_index_column": 36159
        },
        {
         "temperature": 21.4094,
         "_deepnote_index_column": 36160
        },
        {
         "temperature": 21.3996,
         "_deepnote_index_column": 36161
        },
        {
         "temperature": 21.3898,
         "_deepnote_index_column": 36162
        },
        {
         "temperature": 21.3702,
         "_deepnote_index_column": 36163
        },
        {
         "temperature": 21.3702,
         "_deepnote_index_column": 36164
        },
        {
         "temperature": 21.3604,
         "_deepnote_index_column": 36165
        },
        {
         "temperature": 21.3212,
         "_deepnote_index_column": 36166
        },
        {
         "temperature": 21.2918,
         "_deepnote_index_column": 36167
        },
        {
         "temperature": 21.2918,
         "_deepnote_index_column": 36168
        },
        {
         "temperature": 21.282,
         "_deepnote_index_column": 36169
        },
        {
         "temperature": 21.2722,
         "_deepnote_index_column": 36170
        },
        {
         "temperature": 21.233,
         "_deepnote_index_column": 36171
        },
        {
         "temperature": 21.1938,
         "_deepnote_index_column": 36172
        },
        {
         "temperature": 21.1644,
         "_deepnote_index_column": 36173
        },
        {
         "temperature": 21.1546,
         "_deepnote_index_column": 36174
        },
        {
         "temperature": 21.1644,
         "_deepnote_index_column": 36175
        },
        {
         "temperature": 21.1644,
         "_deepnote_index_column": 36176
        },
        {
         "temperature": 21.1742,
         "_deepnote_index_column": 36177
        },
        {
         "temperature": 21.1644,
         "_deepnote_index_column": 36178
        },
        {
         "temperature": 21.1546,
         "_deepnote_index_column": 36179
        },
        {
         "temperature": 21.1546,
         "_deepnote_index_column": 36180
        },
        {
         "temperature": 21.1644,
         "_deepnote_index_column": 36181
        },
        {
         "temperature": 21.1644,
         "_deepnote_index_column": 36182
        },
        {
         "temperature": 21.1448,
         "_deepnote_index_column": 36183
        },
        {
         "temperature": 21.1546,
         "_deepnote_index_column": 36184
        },
        {
         "temperature": 21.1448,
         "_deepnote_index_column": 36185
        },
        {
         "temperature": 21.135,
         "_deepnote_index_column": 36186
        },
        {
         "temperature": 21.1056,
         "_deepnote_index_column": 36187
        },
        {
         "temperature": 21.086,
         "_deepnote_index_column": 36188
        },
        {
         "temperature": 21.086,
         "_deepnote_index_column": 36189
        },
        {
         "temperature": 21.0762,
         "_deepnote_index_column": 36190
        },
        {
         "temperature": 21.0664,
         "_deepnote_index_column": 36191
        }
       ]
      },
      "text/plain": "       temperature\n0          19.9884\n1          19.3024\n2          19.1652\n3          19.1750\n4          19.1456\n...            ...\n36187      21.1056\n36188      21.0860\n36189      21.0860\n36190      21.0762\n36191      21.0664\n\n[36192 rows x 1 columns]",
      "text/html": "<div>\n<style scoped>\n    .dataframe tbody tr th:only-of-type {\n        vertical-align: middle;\n    }\n\n    .dataframe tbody tr th {\n        vertical-align: top;\n    }\n\n    .dataframe thead th {\n        text-align: right;\n    }\n</style>\n<table border=\"1\" class=\"dataframe\">\n  <thead>\n    <tr style=\"text-align: right;\">\n      <th></th>\n      <th>temperature</th>\n    </tr>\n  </thead>\n  <tbody>\n    <tr>\n      <th>0</th>\n      <td>19.9884</td>\n    </tr>\n    <tr>\n      <th>1</th>\n      <td>19.3024</td>\n    </tr>\n    <tr>\n      <th>2</th>\n      <td>19.1652</td>\n    </tr>\n    <tr>\n      <th>3</th>\n      <td>19.1750</td>\n    </tr>\n    <tr>\n      <th>4</th>\n      <td>19.1456</td>\n    </tr>\n    <tr>\n      <th>...</th>\n      <td>...</td>\n    </tr>\n    <tr>\n      <th>36187</th>\n      <td>21.1056</td>\n    </tr>\n    <tr>\n      <th>36188</th>\n      <td>21.0860</td>\n    </tr>\n    <tr>\n      <th>36189</th>\n      <td>21.0860</td>\n    </tr>\n    <tr>\n      <th>36190</th>\n      <td>21.0762</td>\n    </tr>\n    <tr>\n      <th>36191</th>\n      <td>21.0664</td>\n    </tr>\n  </tbody>\n</table>\n<p>36192 rows × 1 columns</p>\n</div>"
     },
     "metadata": {}
    }
   ],
   "execution_count": null
  },
  {
   "cell_type": "code",
   "metadata": {
    "tags": [],
    "deepnote_to_be_reexecuted": false,
    "source_hash": "5c54a97d",
    "execution_start": 1620323479132,
    "execution_millis": 261,
    "cell_id": "00003-2133376a-5a83-45da-a191-dce6811841b5",
    "deepnote_cell_type": "code"
   },
   "source": "plt.figure(figsize=(17, 8))\nplt.plot(data)\nplt.title('Mote #1 Temperature')\nplt.ylabel('In degrees celsius')\nplt.xlabel('Timestamp (1 every 31 seconds)')\nplt.grid(False)\nplt.show()",
   "outputs": [
    {
     "data": {
      "text/plain": "<Figure size 1224x576 with 1 Axes>",
      "image/png": "[encoded data removed]"
     },
     "metadata": {
      "needs_background": "light",
      "image/png": {
       "width": 996,
       "height": 496
      }
     },
     "output_type": "display_data"
    }
   ],
   "execution_count": null
  },
  {
   "cell_type": "markdown",
   "source": "## Exponential Smoothing",
   "metadata": {
    "tags": [],
    "cell_id": "00004-12be9f9f-edd6-4380-96b9-d4c20ae99415",
    "deepnote_cell_type": "text-cell-h2"
   }
  },
  {
   "cell_type": "code",
   "metadata": {
    "tags": [],
    "deepnote_to_be_reexecuted": false,
    "source_hash": "77b025b3",
    "execution_start": 1620323479372,
    "execution_millis": 0,
    "cell_id": "00005-22bffccd-004e-4846-b4f7-a39baa5bc3c9",
    "allow_embed": "code_output",
    "deepnote_cell_type": "code"
   },
   "source": "plot_exponential_smoothing(data, [0.005, 0.0025])",
   "outputs": [],
   "execution_count": null
  },
  {
   "cell_type": "markdown",
   "source": "As you can see, an alpha value of 0.005 smoothed the curve while picking up most of the upward and downward trends. ",
   "metadata": {
    "tags": [],
    "cell_id": "00005-52e95de1-ef72-4ddd-952b-b1187e099b25",
    "deepnote_cell_type": "markdown"
   }
  },
  {
   "cell_type": "markdown",
   "source": "## Double Exponential Smoothing",
   "metadata": {
    "tags": [],
    "cell_id": "00007-c1c7af2f-94d2-40f0-b7fb-b61b0fcc1648",
    "deepnote_cell_type": "text-cell-h2"
   }
  },
  {
   "cell_type": "code",
   "metadata": {
    "tags": [],
    "cell_id": "00008-3133df67-37a9-41c2-9d88-d09df9651f6d",
    "deepnote_to_be_reexecuted": false,
    "source_hash": "5eae42a",
    "execution_start": 1620323733290,
    "execution_millis": 36017,
    "deepnote_cell_type": "code"
   },
   "source": "plot_double_exponential_smoothing(data, alphas=[0.005], betas=[0.999])",
   "outputs": [
    {
     "data": {
      "text/plain": "<Figure size 1224x576 with 1 Axes>",
      "image/png": "[encoded data removed]"
     },
     "metadata": {
      "needs_background": "light",
      "image/png": {
       "width": 982,
       "height": 482
      }
     },
     "output_type": "display_data"
    }
   ],
   "execution_count": null
  },
  {
   "cell_type": "markdown",
   "source": "<a style='text-decoration:none;line-height:16px;display:flex;color:#5B5B62;padding:10px;justify-content:end;' href='https://deepnote.com?utm_source=created-in-deepnote-cell&projectId=2909c026-6572-4fc3-9181-92abc7ca8d21' target=\"_blank\">\n<img alt='Created in deepnote.com' style='display:inline;max-height:16px;margin:0px;margin-right:7.5px;' src='data:image/svg+xml;base64,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' > </img>\nCreated in <span style='font-weight:600;margin-left:4px;'>Deepnote</span></a>",
   "metadata": {
    "tags": [],
    "created_in_deepnote_cell": true,
    "deepnote_cell_type": "markdown"
   }
  }
 ],
 "nbformat": 4,
 "nbformat_minor": 2,
 "metadata": {
  "orig_nbformat": 2,
  "deepnote": {
   "is_reactive": false
  },
  "deepnote_notebook_id": "1de4a414-68f8-4817-8285-486dcbc0a283",
  "deepnote_execution_queue": []
 }
}